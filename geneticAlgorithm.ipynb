{
 "cells": [
  {
   "attachments": {},
   "cell_type": "markdown",
   "metadata": {},
   "source": [
    "# Evolution of a Salesman - Genetic Algorithm for TSP\n",
    "\n",
    "#### I have used Genetic Algorithm (GA) to find the solution to the TSP.\n",
    "#### TSP can be described as:\n",
    "\n",
    "*Given a list of cities and the distances between each pair of cities, what is the shortest possible route that visits each city and returns to the origin city?* \n",
    "\n",
    "<img src=\"TSP.png\" width = \"450\" height = \"400\" />\n",
    "\n",
    "\n",
    "#### There are two important rules to keep in mind:\n",
    "*1. Each city needs to be visited exactly one time*  \n",
    "\n",
    "*2. We must return to the starting city, so our total distance needs to be calculated accordingly*\n",
    "\n",
    "</br>\n",
    "\n",
    "#### Approach\n",
    "#### Let’s start with a few definitions, rephrased in the context of the TSP:\n",
    "\n",
    "\n",
    "| Defination | Comment |\n",
    "| -- | -- |\n",
    "| *Gene* | A city (represented as (x, y) coordinates) |\n",
    "| *Population* | A collection of possible routes (i.e., collection of individuals) |\n",
    "| *Parents* | Two routes that are combined to create a new route |\n",
    "| *Mating Pool* | A collection of parents that are used to create our next population (thus creating the next generation of routes) |\n",
    "| *Fitness* | A function that tells us how good each route is (in our case, how short the distance is) |\n",
    "| *Mutation* | A way to introduce variation in our population by randomly swapping two cities in a route |\n",
    "| *Elitism* | A way to carry the best individuals into the next generation |\n",
    "\n",
    "\n",
    "#### Five phases are considered in a genetic algorithm:\n",
    "*1. Initial population*  \n",
    "\n",
    "*2. Fitness function*  \n",
    "\n",
    "*3. Selection*  \n",
    "\n",
    "*4. Crossover*  \n",
    "\n",
    "*5. Mutation*\n",
    "\n",
    "*REPEAT*"
   ]
  },
  {
   "attachments": {},
   "cell_type": "markdown",
   "metadata": {},
   "source": [
    "## Import all the libraries"
   ]
  },
  {
   "cell_type": "code",
   "execution_count": 1,
   "metadata": {},
   "outputs": [],
   "source": [
    "import numpy as np\n",
    "import random\n",
    "import pandas as pd\n",
    "import operator\n",
    "import matplotlib.pyplot as plt"
   ]
  },
  {
   "attachments": {},
   "cell_type": "markdown",
   "metadata": {},
   "source": [
    "## Create necessary classes and functions"
   ]
  },
  {
   "attachments": {},
   "cell_type": "markdown",
   "metadata": {},
   "source": [
    "### Create class to handle \"cities\""
   ]
  },
  {
   "cell_type": "code",
   "execution_count": 2,
   "metadata": {},
   "outputs": [],
   "source": [
    "class City:\n",
    "    \"\"\"\n",
    "    Represents a city with coordinates (x, y) and provides methods to calculate the distance to another city.\n",
    "    \"\"\"\n",
    "\n",
    "    def __init__(self, x, y):\n",
    "        \"\"\"\n",
    "        Initialize a city with the given x and y coordinates.\n",
    "        \n",
    "        :param x: The x-coordinate of the city.\n",
    "        :param y: The y-coordinate of the city.\n",
    "        \"\"\"\n",
    "        self.x = x\n",
    "        self.y = y\n",
    "    \n",
    "    def distance(self, city):\n",
    "        \"\"\"\n",
    "        Calculate the Euclidean distance between this city and another city.\n",
    "\n",
    "        :param city: The other city.\n",
    "        :return: The distance between the two cities.\n",
    "        \"\"\"\n",
    "        xDistance = abs(self.x - city.x)\n",
    "        yDistance = abs(self.y - city.y)\n",
    "        distance = np.sqrt(xDistance ** 2 + yDistance ** 2)\n",
    "        return distance\n",
    "    \n",
    "    def __repr__(self):\n",
    "        \"\"\"\n",
    "        Return a string representation of the city in the format (x, y).\n",
    "\n",
    "        :return: The string representation of the city.\n",
    "        \"\"\"\n",
    "        return \"(\" + str(self.x) + \",\" + str(self.y) + \")\""
   ]
  },
  {
   "attachments": {},
   "cell_type": "markdown",
   "metadata": {},
   "source": [
    "### Create a fitness function"
   ]
  },
  {
   "cell_type": "code",
   "execution_count": 3,
   "metadata": {},
   "outputs": [],
   "source": [
    "class Fitness:\n",
    "    \"\"\"\n",
    "    Represents the fitness of a route, including its distance and fitness value.\n",
    "    \"\"\"\n",
    "    def __init__(self, route):\n",
    "        \"\"\"\n",
    "        Initialize the Fitness object with the given route.\n",
    "        \n",
    "        :param route: The route to evaluate the fitness for.\n",
    "        \"\"\"\n",
    "        self.route = route\n",
    "        self.distance = 0\n",
    "        self.fitness = 0.0\n",
    "\n",
    "    def routeDistance(self):\n",
    "        \"\"\"\n",
    "        Calculate the total distance of the route by summing the distances between consecutive cities.\n",
    "\n",
    "        :return: The total distance of the route.\n",
    "        \"\"\"\n",
    "        if(self.distance == 0):\n",
    "            pathDistance = 0\n",
    "            for i in range(0, len(self.route)):\n",
    "                fromCity = self.route[i]\n",
    "                toCity = None\n",
    "                if(i + 1 < len(self.route)):\n",
    "                    toCity = self.route[i+1]\n",
    "                else:\n",
    "                    toCity = self.route[0]\n",
    "                pathDistance += fromCity.distance(toCity)\n",
    "            self.distance = pathDistance\n",
    "        return self.distance\n",
    "    \n",
    "    def routeFitness(self):\n",
    "        \"\"\"\n",
    "        Calculate the fitness value of the route as the reciprocal of the route distance.\n",
    "        We maximize fitness by minimizing distance. This is why we use the reciprocal of the distance.\n",
    "\n",
    "        :return: The fitness value of the route.\n",
    "        \"\"\"\n",
    "        if(self.fitness == 0):\n",
    "            self.fitness = 1/float(self.routeDistance())\n",
    "        return self.fitness"
   ]
  },
  {
   "attachments": {},
   "cell_type": "markdown",
   "metadata": {},
   "source": [
    "## Create our Initial Population\n",
    "\n",
    "*- The process begins with a set of individuals which is called a Population. Each individual is a solution to the problem you want to solve.*\n",
    "\n",
    "*- An individual is characterized by a set of parameters (variables) known as Genes. Genes are joined into a string to form a Chromosome (solution).*\n",
    "\n",
    "*- In a genetic algorithm, the set of genes of an individual is represented using a string, in terms of an alphabet. Usually, binary values are used (string of 1s and 0s). We say that we encode the genes in a chromosome.*\n",
    "\n",
    "<img src = \"Initial Population.png\" width = \"450\" height = \"350\" />"
   ]
  },
  {
   "attachments": {},
   "cell_type": "markdown",
   "metadata": {},
   "source": [
    "### Route generator"
   ]
  },
  {
   "cell_type": "code",
   "execution_count": 4,
   "metadata": {},
   "outputs": [],
   "source": [
    "def createRoute(cityList):\n",
    "    \"\"\"\n",
    "    Creates a random route by shuffling the given city list.\n",
    "    \n",
    "    :param cityList: The list of cities to create the route from.\n",
    "    :return: A randomly generated route.\n",
    "    \"\"\"\n",
    "    route = random.sample(cityList, len(cityList))\n",
    "    return route"
   ]
  },
  {
   "attachments": {},
   "cell_type": "markdown",
   "metadata": {},
   "source": [
    "### Create first \"population\" (list of routes)"
   ]
  },
  {
   "cell_type": "code",
   "execution_count": 5,
   "metadata": {},
   "outputs": [],
   "source": [
    "def initialPopulation(popuSize, cityList):\n",
    "    \"\"\"\n",
    "    Initializes the population with a specified size by generating random routes.\n",
    "    \n",
    "    :param popuSize: The desired size of the population.\n",
    "    :param cityList: The list of cities to create the routes from.\n",
    "    :return: The initial population consisting of randomly generated routes.\n",
    "    \"\"\"\n",
    "    population = []\n",
    "\n",
    "    for i in range(0, popuSize):\n",
    "        population.append(createRoute(cityList))\n",
    "    return population"
   ]
  },
  {
   "attachments": {},
   "cell_type": "markdown",
   "metadata": {},
   "source": [
    "### Rank individuals"
   ]
  },
  {
   "cell_type": "code",
   "execution_count": 6,
   "metadata": {},
   "outputs": [],
   "source": [
    "def rankRoutes(population):\n",
    "    \"\"\"\n",
    "    Ranks the routes in the population based on their fitness values.\n",
    "    \n",
    "    :param population: The population of routes to be ranked.\n",
    "    :return: A sorted list of tuples containing the route indices and their corresponding fitness values,\n",
    "             sorted in descending order of fitness.\n",
    "    \"\"\"\n",
    "    fitnessResults = {}\n",
    "    \n",
    "    for i in range(0, len(population)):\n",
    "        fitnessResults[i] = Fitness(population[i]).routeFitness()\n",
    "    return sorted(fitnessResults.items(), key = operator.itemgetter(1), reverse = True)"
   ]
  },
  {
   "attachments": {},
   "cell_type": "markdown",
   "metadata": {},
   "source": [
    "### Create a Selection function that will be used to make the list of parent routes"
   ]
  },
  {
   "attachments": {},
   "cell_type": "markdown",
   "metadata": {},
   "source": [
    "*The idea of Selection phase is to select the fittest individuals and let them pass their genes to the next generation.*\n",
    "\n",
    "*Two pairs of individuals (parents) are selected based on their fitness scores. Individuals with high fitness have more chance to be selected for reproduction.*"
   ]
  },
  {
   "cell_type": "code",
   "execution_count": 7,
   "metadata": {},
   "outputs": [],
   "source": [
    "def selection(popuRanked, eliteSize):\n",
    "    \"\"\"\n",
    "    Performs selection of individuals from the ranked population for the next generation.\n",
    "    \n",
    "    :param popuRanked: The ranked population, a list of tuples containing the individual indices and their fitness values.\n",
    "    :param eliteSize: The number of top-ranked individuals to include in the selection.\n",
    "    :return: A list of selected individual indices for the next generation.\n",
    "    \"\"\"\n",
    "    selectionResults = []\n",
    "    df = pd.DataFrame(np.array(popuRanked), columns=[\"Index\", \"Fitness\"])  # Remove np.array() around popuRanked\n",
    "    df['cum_sum'] = df.Fitness.cumsum()\n",
    "    df['cum_prec'] = 100 * df.cum_sum / df.Fitness.sum()\n",
    "\n",
    "    for i in range(0, eliteSize):\n",
    "        selectionResults.append(popuRanked[i][0])  # Append the index only\n",
    "    \n",
    "    for i in range(0, len(popuRanked) - eliteSize):\n",
    "        pick = 100 * random.random()\n",
    "        for i in range(0, len(popuRanked)):\n",
    "            if pick <= df.iat[i, 3]:\n",
    "                selectionResults.append(popuRanked[i][0])  # Append the index only\n",
    "                break\n",
    "    return selectionResults\n"
   ]
  },
  {
   "attachments": {},
   "cell_type": "markdown",
   "metadata": {},
   "source": [
    "### Create Mating pool"
   ]
  },
  {
   "cell_type": "code",
   "execution_count": 8,
   "metadata": {},
   "outputs": [],
   "source": [
    "def mating(population, selectionResults):\n",
    "    \"\"\"\n",
    "    Creates a mating pool by selecting individuals from the population based on the selection results.\n",
    "    \n",
    "    :param population: The population of individuals.\n",
    "    :param selectionResults: The selected individual indices from the selection process.\n",
    "    :return: The mating pool containing the selected individuals.\n",
    "    \"\"\"\n",
    "    matingPool = []\n",
    "    \n",
    "    for i in range(0, len(selectionResults)):\n",
    "        index = selectionResults[i]\n",
    "        matingPool.append(population[index])\n",
    "    return matingPool"
   ]
  },
  {
   "attachments": {},
   "cell_type": "markdown",
   "metadata": {},
   "source": [
    "### Create a Crossover function for two parents to create one child\n",
    "\n",
    "*Crossover is the most significant phase in a genetic algorithm. For each pair of parents to be mated, a crossover point is chosen at random from within the genes.*\n",
    "\n",
    "</br>\n",
    "\n",
    "*For example, consider the crossover point to be 3 as shown below.*\n",
    "\n",
    "<img src = \"Crossover 1.png\" width = \"450\" height = \"350\" />\n",
    "\n",
    "</br>\n",
    "</br>\n",
    "</br>\n",
    "\n",
    "*Offspring are created by exchanging the genes of parents among themselves until the crossover point is reached.*\n",
    "\n",
    "<img src = \"Crossover 2.png\" width = \"450\" height = \"350\" />\n",
    "\n",
    "</br>\n",
    "</br>\n",
    "</br>\n",
    "\n",
    "*The new offspring are added to the population.*\n",
    "\n",
    "<img src = \"Crossover 3.png\" width = \"450\" height = \"350\" />"
   ]
  },
  {
   "cell_type": "code",
   "execution_count": 9,
   "metadata": {},
   "outputs": [],
   "source": [
    "def breed(parent1, parent2):\n",
    "    \"\"\"\n",
    "    Performs crossover between two parents to create a child individual.\n",
    "    \n",
    "    :param parent1: The first parent individual.\n",
    "    :param parent2: The second parent individual.\n",
    "    :return: The child individual created through crossover.\n",
    "    \"\"\"\n",
    "    child = []\n",
    "    childP1 = []\n",
    "    childP2 = []\n",
    "    geneA = int(random.random() * len(parent1))\n",
    "    geneB = int(random.random() * len(parent1))\n",
    "    startGene = min(geneA, geneB)\n",
    "    endGene = max(geneA, geneB)\n",
    "    \n",
    "    for i in range(startGene, endGene):\n",
    "        childP1.append(parent1[i])\n",
    "    childP2 = [item for item in parent2 if item not in childP1]\n",
    "    child = childP1 + childP2\n",
    "    return child"
   ]
  },
  {
   "attachments": {},
   "cell_type": "markdown",
   "metadata": {},
   "source": [
    "### A diagram clearly illustrating the Crossover and Mutation\n",
    "\n",
    "<img src = \"CAM.png\" width = \"1000\" height = \"350\" />"
   ]
  },
  {
   "attachments": {},
   "cell_type": "markdown",
   "metadata": {},
   "source": [
    "### Create function to run crossover over full mating pool"
   ]
  },
  {
   "cell_type": "code",
   "execution_count": 10,
   "metadata": {},
   "outputs": [],
   "source": [
    "def breedPopulation(matingPool, eliteSize):\n",
    "    \"\"\"\n",
    "    Performs breeding (crossover) among individuals in the mating pool to create a new generation.\n",
    "    \n",
    "    :param matingPool: The pool of individuals selected for breeding.\n",
    "    :param eliteSize: The number of top individuals to preserve as elites.\n",
    "    :return: The new generation of individuals created through breeding.\n",
    "    \"\"\"\n",
    "    children = []\n",
    "    length = len(matingPool) - eliteSize\n",
    "    pool = random.sample(matingPool, len(matingPool))\n",
    "\n",
    "    for i in range(0, eliteSize):\n",
    "        children.append(matingPool[i])\n",
    "\n",
    "    for i in range(0, length):\n",
    "        child = breed(pool[i], pool[len(matingPool) - i - 1])\n",
    "        children.append(child)\n",
    "    return children"
   ]
  },
  {
   "attachments": {},
   "cell_type": "markdown",
   "metadata": {},
   "source": [
    "### Create function to mutate a single route\n",
    "\n",
    "*In certain new offspring formed, some of their genes can be subjected to a mutation with a low random probability. This implies that some of the bits in the bit string can be flipped.*\n",
    "\n",
    "</br>\n",
    "\n",
    "<img src = \"Mutation.png\" width = \"450\" height = \"350\" />"
   ]
  },
  {
   "cell_type": "code",
   "execution_count": 11,
   "metadata": {},
   "outputs": [],
   "source": [
    "def mutate(individual, mutationRate):\n",
    "    \"\"\"\n",
    "    Applies mutation to an individual by swapping cities with a certain probability.\n",
    "    \n",
    "    :param individual: The individual (route) to be mutated.\n",
    "    :param mutationRate: The probability of mutation for each city in the individual.\n",
    "    :return: The mutated individual.\n",
    "    \"\"\"\n",
    "    for swapped in range(len(individual)):\n",
    "        if(random.random() < mutationRate):\n",
    "            swapWith = int(random.random() * len(individual))\n",
    "            city1 = individual[swapped]\n",
    "            city2 = individual[swapWith]\n",
    "            individual[swapped] = city2\n",
    "            individual[swapWith] = city1\n",
    "    return individual"
   ]
  },
  {
   "attachments": {},
   "cell_type": "markdown",
   "metadata": {},
   "source": [
    "### Create function to run mutation over entire population"
   ]
  },
  {
   "cell_type": "code",
   "execution_count": 12,
   "metadata": {},
   "outputs": [],
   "source": [
    "def mutatePopulation(population, mutationRate):\n",
    "    \"\"\"\n",
    "    Applies mutation to a population by mutating each individual in the population.\n",
    "    \n",
    "    :param population: The population of individuals (routes) to be mutated.\n",
    "    :param mutationRate: The probability of mutation for each city in an individual.\n",
    "    :return: The mutated population.\n",
    "    \"\"\"\n",
    "    mutatedPopulation = []\n",
    "\n",
    "    for i in range(0, len(population)):\n",
    "        mutatedIndex = mutate(population[i], mutationRate)\n",
    "        mutatedPopulation.append(mutatedIndex)\n",
    "    return mutatedPopulation"
   ]
  },
  {
   "attachments": {},
   "cell_type": "markdown",
   "metadata": {},
   "source": [
    "### Put all steps together to create the next generation"
   ]
  },
  {
   "cell_type": "code",
   "execution_count": 13,
   "metadata": {},
   "outputs": [],
   "source": [
    "def nextGeneration(currGeneration, eliteSize, mutationRate):\n",
    "    \"\"\"\n",
    "    Generates the next generation of the population by performing selection, mating, breeding, and mutation.\n",
    "    \n",
    "    :param currGeneration: The current generation of the population.\n",
    "    :param eliteSize: The number of top individuals to be preserved as elite.\n",
    "    :param mutationRate: The probability of mutation for each city in an individual.\n",
    "    :return: The next generation of the population.\n",
    "    \"\"\"\n",
    "    populationRanked = rankRoutes(currGeneration)\n",
    "    selectionResults = selection(populationRanked, eliteSize)\n",
    "    matingPool = mating(currGeneration, selectionResults)\n",
    "    children = breedPopulation(matingPool, eliteSize)\n",
    "    nextGen = mutatePopulation(children, mutationRate)\n",
    "    return nextGen"
   ]
  },
  {
   "attachments": {},
   "cell_type": "markdown",
   "metadata": {},
   "source": [
    "### Final step: create the genetic algorithm"
   ]
  },
  {
   "cell_type": "code",
   "execution_count": 14,
   "metadata": {},
   "outputs": [],
   "source": [
    "def geneticAlgorithm(population, populationSize, eliteSize, mutationRate, generations):\n",
    "    \"\"\"\n",
    "    Implements a genetic algorithm to solve the Traveling Salesman Problem (TSP).\n",
    "    \n",
    "    :param population: The list of cities representing the initial population.\n",
    "    :param populationSize: The size of the population.\n",
    "    :param eliteSize: The number of top individuals to be preserved as elite in each generation.\n",
    "    :param mutationRate: The probability of mutation for each city in an individual.\n",
    "    :param generations: The number of generations to run the algorithm.\n",
    "    :return: The best route found by the genetic algorithm.\n",
    "    \"\"\"\n",
    "    pop = initialPopulation(populationSize, population)\n",
    "    print(\"Initial Distance: \" + str(1/rankRoutes(pop)[0][1]))\n",
    "\n",
    "    for i in range(0, generations):\n",
    "        pop = nextGeneration(pop, eliteSize, mutationRate)\n",
    "\n",
    "    print(\"Final distance: \" + str(1/rankRoutes(pop)[0][1]))\n",
    "    bestRouteIndex = rankRoutes(pop)[0][0]\n",
    "    bestRoute = pop[bestRouteIndex]\n",
    "    return bestRoute"
   ]
  },
  {
   "attachments": {},
   "cell_type": "markdown",
   "metadata": {},
   "source": [
    "## Running the genetic algorithm"
   ]
  },
  {
   "attachments": {},
   "cell_type": "markdown",
   "metadata": {},
   "source": [
    "### Create list of cities"
   ]
  },
  {
   "cell_type": "code",
   "execution_count": 19,
   "metadata": {},
   "outputs": [
    {
     "name": "stdout",
     "output_type": "stream",
     "text": [
      "[(30,89), (17,18), (50,82), (70,63), (85,8), (2,46), (95,25), (90,86), (77,72), (6,98), (34,23), (89,65), (0,52), (77,37), (91,81), (8,19), (30,62), (88,86), (55,47), (52,52), (56,83), (48,43), (55,55), (27,49), (51,59), (84,55), (13,60), (78,51), (88,8), (35,66), (74,93), (66,5), (3,34), (70,94), (50,14), (26,80), (67,40), (69,39), (68,26), (6,25)]\n"
     ]
    }
   ],
   "source": [
    "\"\"\"\n",
    "Empty list 'cityList' is created to store the cities.\n",
    "Generates a list of 40 City objects with randomly generated coordinates within the range of (0, 0) to (99, 99) on a two-dimensional plane.\n",
    "\"\"\"\n",
    "cityList = []\n",
    "\n",
    "for i in range(0, 40):\n",
    "    cityList.append(City(x = int(random.random() * 100), y = int(random.random() * 100)))\n",
    "\n",
    "print(cityList)"
   ]
  },
  {
   "attachments": {},
   "cell_type": "markdown",
   "metadata": {},
   "source": [
    "### Run the Genetic Algorithm"
   ]
  },
  {
   "cell_type": "code",
   "execution_count": 20,
   "metadata": {},
   "outputs": [
    {
     "name": "stdout",
     "output_type": "stream",
     "text": [
      "Initial Distance: 1628.9894823268066\n",
      "Final distance: 774.5422624100981\n"
     ]
    },
    {
     "data": {
      "text/plain": [
       "[(50,82),\n",
       " (30,89),\n",
       " (6,98),\n",
       " (30,62),\n",
       " (13,60),\n",
       " (0,52),\n",
       " (2,46),\n",
       " (3,34),\n",
       " (6,25),\n",
       " (8,19),\n",
       " (17,18),\n",
       " (34,23),\n",
       " (50,14),\n",
       " (66,5),\n",
       " (68,26),\n",
       " (85,8),\n",
       " (88,8),\n",
       " (95,25),\n",
       " (90,86),\n",
       " (88,86),\n",
       " (91,81),\n",
       " (70,63),\n",
       " (51,59),\n",
       " (52,52),\n",
       " (55,47),\n",
       " (69,39),\n",
       " (77,37),\n",
       " (78,51),\n",
       " (77,72),\n",
       " (56,83),\n",
       " (55,55),\n",
       " (27,49),\n",
       " (70,94),\n",
       " (74,93),\n",
       " (89,65),\n",
       " (84,55),\n",
       " (67,40),\n",
       " (48,43),\n",
       " (35,66),\n",
       " (26,80)]"
      ]
     },
     "execution_count": 20,
     "metadata": {},
     "output_type": "execute_result"
    }
   ],
   "source": [
    "\"\"\"\n",
    "Runs the genetic algorithm to solve the traveling salesman problem (TSP) using a given population of cities.\n",
    "\"\"\"\n",
    "geneticAlgorithm(population = cityList, populationSize = 250, eliteSize = 20, mutationRate = 0.01, generations = 500)"
   ]
  },
  {
   "attachments": {},
   "cell_type": "markdown",
   "metadata": {},
   "source": [
    "## Plot the progress"
   ]
  },
  {
   "attachments": {},
   "cell_type": "markdown",
   "metadata": {},
   "source": [
    "### Note, this will win run a separate GA"
   ]
  },
  {
   "cell_type": "code",
   "execution_count": 23,
   "metadata": {},
   "outputs": [],
   "source": [
    "def geneticAlgorithmPlot(population, populationSize, eliteSize, mutationRate, generations):\n",
    "    \"\"\"\n",
    "    Allows visualizing the improvement in the best route's distance over generations, \n",
    "    providing insights into the convergence and effectiveness of the genetic algorithm in solving the TSP.\n",
    "    \"\"\"\n",
    "    pop = initialPopulation(populationSize, population)\n",
    "    progress = []\n",
    "    # we are saving the distance of the best route in each generation\n",
    "    # by taking the reciprocal of the fitness value\n",
    "    progress.append(1 / rankRoutes(pop)[0][1])\n",
    "    \n",
    "    for i in range(0, generations):\n",
    "        pop = nextGeneration(pop, eliteSize, mutationRate)\n",
    "        progress.append(1 / rankRoutes(pop)[0][1])\n",
    "    \n",
    "    plt.plot(progress)\n",
    "    plt.ylabel('Distance')\n",
    "    plt.xlabel('Generation')\n",
    "    plt.show()"
   ]
  },
  {
   "attachments": {},
   "cell_type": "markdown",
   "metadata": {},
   "source": [
    "### Run the function with our assumptions to see how distance has improved in each generation"
   ]
  },
  {
   "cell_type": "code",
   "execution_count": 24,
   "metadata": {},
   "outputs": [
    {
     "data": {
      "image/png": "[encoded data removed]",
      "text/plain": [
       "<Figure size 640x480 with 1 Axes>"
      ]
     },
     "metadata": {},
     "output_type": "display_data"
    }
   ],
   "source": [
    "geneticAlgorithmPlot(population = cityList, populationSize = 250, eliteSize = 20, mutationRate = 0.01, generations = 500)"
   ]
  },
  {
   "attachments": {},
   "cell_type": "markdown",
   "metadata": {},
   "source": [
    "#### Well, we can see how the distance improved in each generation!!"
   ]
  }
 ],
 "metadata": {
  "kernelspec": {
   "display_name": "Python 3",
   "language": "python",
   "name": "python3"
  },
  "language_info": {
   "codemirror_mode": {
    "name": "ipython",
    "version": 3
   },
   "file_extension": ".py",
   "mimetype": "text/x-python",
   "name": "python",
   "nbconvert_exporter": "python",
   "pygments_lexer": "ipython3",
   "version": "3.10.11"
  },
  "orig_nbformat": 4
 },
 "nbformat": 4,
 "nbformat_minor": 2
}
